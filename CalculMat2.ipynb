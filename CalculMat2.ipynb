{
 "cells": [
  {
   "cell_type": "code",
   "execution_count": 2,
   "metadata": {},
   "outputs": [],
   "source": [
    "from sympy import *\n",
    "from sympy.physics.quantum import TensorProduct"
   ]
  },
  {
   "cell_type": "code",
   "execution_count": 75,
   "metadata": {},
   "outputs": [],
   "source": [
    "q0 = Matrix([Symbol(\"a\"), Symbol(\"b\")])\n",
    "q1 = Matrix([Symbol(\"c\"), Symbol(\"d\")])\n",
    "\n",
    "q01 = TensorProduct(q0,q1) # q1 (*) q0 alors que on veut q0 (*) q1\n",
    "\n",
    "h = Matrix([[1/sqrt(2), 1/sqrt(2)], [1/sqrt(2), -1/sqrt(2)]])\n",
    "z = Matrix([[1, 0], [0, -1]])\n",
    "i = eye(2)\n",
    "zi = TensorProduct(z, i) #(d1) \n",
    "iz = TensorProduct(i, z) #(d2): i (x) z  #OK\n",
    "h2 = TensorProduct(h, h)                                                           \n",
    "\n",
    "cz = Matrix([[1, 0, 0, 0], [0, 1, 0, 0], [0, 0, 1, 0], [0, 0, 0, -1]])\n",
    "\n",
    "\n",
    "#(d2)\n",
    "Ui = h2 * iz * cz\n",
    "Ui2 = cz * iz * h2"
   ]
  },
  {
   "cell_type": "code",
   "execution_count": null,
   "metadata": {},
   "outputs": [],
   "source": [
    "Ui"
   ]
  },
  {
   "cell_type": "code",
   "execution_count": 86,
   "metadata": {},
   "outputs": [
    {
     "data": {
      "text/latex": [
       "$\\displaystyle \\left[\\begin{matrix}\\frac{1}{2} & \\frac{1}{2} & \\frac{1}{2} & \\frac{1}{2}\\\\- \\frac{1}{2} & \\frac{1}{2} & - \\frac{1}{2} & \\frac{1}{2}\\\\\\frac{1}{2} & \\frac{1}{2} & - \\frac{1}{2} & - \\frac{1}{2}\\\\\\frac{1}{2} & - \\frac{1}{2} & - \\frac{1}{2} & \\frac{1}{2}\\end{matrix}\\right]$"
      ],
      "text/plain": [
       "Matrix([\n",
       "[ 1/2,  1/2,  1/2,  1/2],\n",
       "[-1/2,  1/2, -1/2,  1/2],\n",
       "[ 1/2,  1/2, -1/2, -1/2],\n",
       "[ 1/2, -1/2, -1/2,  1/2]])"
      ]
     },
     "execution_count": 86,
     "metadata": {},
     "output_type": "execute_result"
    }
   ],
   "source": [
    "Ui2"
   ]
  },
  {
   "cell_type": "code",
   "execution_count": 90,
   "metadata": {},
   "outputs": [
    {
     "data": {
      "text/latex": [
       "$\\displaystyle \\left[\\begin{matrix}\\frac{1}{2} & - \\frac{1}{2} & \\frac{1}{2} & \\frac{1}{2}\\end{matrix}\\right]$"
      ],
      "text/plain": [
       "Matrix([[1/2, -1/2, 1/2, 1/2]])"
      ]
     },
     "execution_count": 90,
     "metadata": {},
     "output_type": "execute_result"
    }
   ],
   "source": [
    "Matrix([1, 0, 0, 0]).T * Ui  "
   ]
  },
  {
   "cell_type": "code",
   "execution_count": 78,
   "metadata": {},
   "outputs": [
    {
     "data": {
      "text/latex": [
       "$\\displaystyle \\left[\\begin{matrix}\\frac{\\sqrt{2}}{2} & \\frac{\\sqrt{2}}{2}\\\\\\frac{\\sqrt{2}}{2} & - \\frac{\\sqrt{2}}{2}\\end{matrix}\\right]$"
      ],
      "text/plain": [
       "Matrix([\n",
       "[sqrt(2)/2,  sqrt(2)/2],\n",
       "[sqrt(2)/2, -sqrt(2)/2]])"
      ]
     },
     "execution_count": 78,
     "metadata": {},
     "output_type": "execute_result"
    }
   ],
   "source": [
    "h"
   ]
  },
  {
   "cell_type": "code",
   "execution_count": 79,
   "metadata": {},
   "outputs": [
    {
     "data": {
      "text/latex": [
       "$\\displaystyle \\left[\\begin{matrix}1 & 0\\\\0 & 1\\end{matrix}\\right]$"
      ],
      "text/plain": [
       "Matrix([\n",
       "[1, 0],\n",
       "[0, 1]])"
      ]
     },
     "execution_count": 79,
     "metadata": {},
     "output_type": "execute_result"
    }
   ],
   "source": [
    "i"
   ]
  },
  {
   "cell_type": "code",
   "execution_count": 80,
   "metadata": {},
   "outputs": [
    {
     "data": {
      "text/latex": [
       "$\\displaystyle \\left[\\begin{matrix}\\frac{1}{2} & \\frac{1}{2} & \\frac{1}{2} & \\frac{1}{2}\\\\\\frac{1}{2} & - \\frac{1}{2} & \\frac{1}{2} & - \\frac{1}{2}\\\\\\frac{1}{2} & \\frac{1}{2} & - \\frac{1}{2} & - \\frac{1}{2}\\\\\\frac{1}{2} & - \\frac{1}{2} & - \\frac{1}{2} & \\frac{1}{2}\\end{matrix}\\right]$"
      ],
      "text/plain": [
       "Matrix([\n",
       "[1/2,  1/2,  1/2,  1/2],\n",
       "[1/2, -1/2,  1/2, -1/2],\n",
       "[1/2,  1/2, -1/2, -1/2],\n",
       "[1/2, -1/2, -1/2,  1/2]])"
      ]
     },
     "execution_count": 80,
     "metadata": {},
     "output_type": "execute_result"
    }
   ],
   "source": [
    "h2"
   ]
  },
  {
   "cell_type": "code",
   "execution_count": null,
   "metadata": {},
   "outputs": [],
   "source": []
  },
  {
   "cell_type": "code",
   "execution_count": 81,
   "metadata": {},
   "outputs": [
    {
     "data": {
      "text/latex": [
       "$\\displaystyle \\left[\\begin{matrix}a c\\\\a d\\\\b c\\\\b d\\end{matrix}\\right]$"
      ],
      "text/plain": [
       "Matrix([\n",
       "[a*c],\n",
       "[a*d],\n",
       "[b*c],\n",
       "[b*d]])"
      ]
     },
     "execution_count": 81,
     "metadata": {},
     "output_type": "execute_result"
    }
   ],
   "source": [
    "q01"
   ]
  },
  {
   "cell_type": "code",
   "execution_count": 82,
   "metadata": {},
   "outputs": [
    {
     "data": {
      "text/latex": [
       "$\\displaystyle \\left[\\begin{matrix}\\frac{1}{2} & \\frac{1}{2} & \\frac{1}{2} & \\frac{1}{2}\\\\- \\frac{1}{2} & \\frac{1}{2} & - \\frac{1}{2} & \\frac{1}{2}\\\\\\frac{1}{2} & \\frac{1}{2} & - \\frac{1}{2} & - \\frac{1}{2}\\\\\\frac{1}{2} & - \\frac{1}{2} & - \\frac{1}{2} & \\frac{1}{2}\\end{matrix}\\right]$"
      ],
      "text/plain": [
       "Matrix([\n",
       "[ 1/2,  1/2,  1/2,  1/2],\n",
       "[-1/2,  1/2, -1/2,  1/2],\n",
       "[ 1/2,  1/2, -1/2, -1/2],\n",
       "[ 1/2, -1/2, -1/2,  1/2]])"
      ]
     },
     "execution_count": 82,
     "metadata": {},
     "output_type": "execute_result"
    }
   ],
   "source": [
    "Ui2"
   ]
  },
  {
   "cell_type": "code",
   "execution_count": 83,
   "metadata": {},
   "outputs": [
    {
     "data": {
      "text/latex": [
       "$\\displaystyle \\left[\\begin{matrix}\\frac{a c}{2} + \\frac{a d}{2} + \\frac{b c}{2} + \\frac{b d}{2}\\\\- \\frac{a c}{2} + \\frac{a d}{2} - \\frac{b c}{2} + \\frac{b d}{2}\\\\\\frac{a c}{2} + \\frac{a d}{2} - \\frac{b c}{2} - \\frac{b d}{2}\\\\\\frac{a c}{2} - \\frac{a d}{2} - \\frac{b c}{2} + \\frac{b d}{2}\\end{matrix}\\right]$"
      ],
      "text/plain": [
       "Matrix([\n",
       "[ a*c/2 + a*d/2 + b*c/2 + b*d/2],\n",
       "[-a*c/2 + a*d/2 - b*c/2 + b*d/2],\n",
       "[ a*c/2 + a*d/2 - b*c/2 - b*d/2],\n",
       "[ a*c/2 - a*d/2 - b*c/2 + b*d/2]])"
      ]
     },
     "execution_count": 83,
     "metadata": {},
     "output_type": "execute_result"
    }
   ],
   "source": [
    "f1 = Ui2 * q01\n",
    "f1"
   ]
  },
  {
   "cell_type": "code",
   "execution_count": 84,
   "metadata": {},
   "outputs": [
    {
     "data": {
      "text/latex": [
       "$\\displaystyle \\left[\\begin{matrix}\\frac{a c}{2} - \\frac{a d}{2} + \\frac{b c}{2} + \\frac{b d}{2}\\\\\\frac{a c}{2} + \\frac{a d}{2} + \\frac{b c}{2} - \\frac{b d}{2}\\\\\\frac{a c}{2} - \\frac{a d}{2} - \\frac{b c}{2} - \\frac{b d}{2}\\\\\\frac{a c}{2} + \\frac{a d}{2} - \\frac{b c}{2} + \\frac{b d}{2}\\end{matrix}\\right]$"
      ],
      "text/plain": [
       "Matrix([\n",
       "[a*c/2 - a*d/2 + b*c/2 + b*d/2],\n",
       "[a*c/2 + a*d/2 + b*c/2 - b*d/2],\n",
       "[a*c/2 - a*d/2 - b*c/2 - b*d/2],\n",
       "[a*c/2 + a*d/2 - b*c/2 + b*d/2]])"
      ]
     },
     "execution_count": 84,
     "metadata": {},
     "output_type": "execute_result"
    }
   ],
   "source": [
    "f2 = Ui * q01\n",
    "f2"
   ]
  },
  {
   "cell_type": "code",
   "execution_count": 85,
   "metadata": {},
   "outputs": [
    {
     "data": {
      "text/latex": [
       "$\\displaystyle \\left[\\begin{matrix}\\frac{a c}{2} + \\frac{a d}{2} + \\frac{b c}{2} + \\frac{b d}{2} & - \\frac{a c}{2} + \\frac{a d}{2} - \\frac{b c}{2} + \\frac{b d}{2} & \\frac{a c}{2} + \\frac{a d}{2} - \\frac{b c}{2} - \\frac{b d}{2} & \\frac{a c}{2} - \\frac{a d}{2} - \\frac{b c}{2} + \\frac{b d}{2}\\end{matrix}\\right]$"
      ],
      "text/plain": [
       "Matrix([[a*c/2 + a*d/2 + b*c/2 + b*d/2, -a*c/2 + a*d/2 - b*c/2 + b*d/2, a*c/2 + a*d/2 - b*c/2 - b*d/2, a*c/2 - a*d/2 - b*c/2 + b*d/2]])"
      ]
     },
     "execution_count": 85,
     "metadata": {},
     "output_type": "execute_result"
    }
   ],
   "source": [
    "f2 = q01.T * Ui\n",
    "f2"
   ]
  },
  {
   "cell_type": "code",
   "execution_count": null,
   "metadata": {
    "scrolled": true
   },
   "outputs": [],
   "source": []
  },
  {
   "cell_type": "code",
   "execution_count": 70,
   "metadata": {},
   "outputs": [
    {
     "data": {
      "text/latex": [
       "$\\displaystyle \\left[\\begin{matrix}\\frac{1}{2} & \\frac{1}{2} & - \\frac{1}{2} & \\frac{1}{2}\\\\\\frac{1}{2} & - \\frac{1}{2} & - \\frac{1}{2} & - \\frac{1}{2}\\\\\\frac{1}{2} & \\frac{1}{2} & \\frac{1}{2} & - \\frac{1}{2}\\\\\\frac{1}{2} & - \\frac{1}{2} & \\frac{1}{2} & \\frac{1}{2}\\end{matrix}\\right]$"
      ],
      "text/plain": [
       "Matrix([\n",
       "[1/2,  1/2, -1/2,  1/2],\n",
       "[1/2, -1/2, -1/2, -1/2],\n",
       "[1/2,  1/2,  1/2, -1/2],\n",
       "[1/2, -1/2,  1/2,  1/2]])"
      ]
     },
     "execution_count": 70,
     "metadata": {},
     "output_type": "execute_result"
    }
   ],
   "source": [
    "Ui = h2 * zi * cz\n",
    "Ui"
   ]
  },
  {
   "cell_type": "markdown",
   "metadata": {},
   "source": [
    "# W part "
   ]
  },
  {
   "cell_type": "code",
   "execution_count": 16,
   "metadata": {},
   "outputs": [
    {
     "data": {
      "text/latex": [
       "$\\displaystyle \\left[\\begin{matrix}1 & 0 & 0 & 0\\\\0 & -1 & 0 & 0\\\\0 & 0 & -1 & 0\\\\0 & 0 & 0 & 1\\end{matrix}\\right]$"
      ],
      "text/plain": [
       "Matrix([\n",
       "[1,  0,  0, 0],\n",
       "[0, -1,  0, 0],\n",
       "[0,  0, -1, 0],\n",
       "[0,  0,  0, 1]])"
      ]
     },
     "execution_count": 16,
     "metadata": {},
     "output_type": "execute_result"
    }
   ],
   "source": [
    "z2 = TensorProduct(z,z)\n",
    "z2"
   ]
  },
  {
   "cell_type": "code",
   "execution_count": 17,
   "metadata": {},
   "outputs": [
    {
     "data": {
      "text/latex": [
       "$\\displaystyle \\left[\\begin{matrix}0 & 0 & 0 & 1\\\\0 & 0 & 1 & 0\\\\0 & 1 & 0 & 0\\\\1 & 0 & 0 & 0\\end{matrix}\\right]$"
      ],
      "text/plain": [
       "Matrix([\n",
       "[0, 0, 0, 1],\n",
       "[0, 0, 1, 0],\n",
       "[0, 1, 0, 0],\n",
       "[1, 0, 0, 0]])"
      ]
     },
     "execution_count": 17,
     "metadata": {},
     "output_type": "execute_result"
    }
   ],
   "source": [
    "x = Matrix([[0,1], [1,0]])\n",
    "x2 = TensorProduct(x,x)\n",
    "x2"
   ]
  },
  {
   "cell_type": "code",
   "execution_count": 18,
   "metadata": {},
   "outputs": [
    {
     "data": {
      "text/latex": [
       "$\\displaystyle \\left[\\begin{matrix}1 & 0 & 0 & 0 & 0 & 0 & 0 & 0\\\\0 & 1 & 0 & 0 & 0 & 0 & 0 & 0\\\\0 & 0 & 1 & 0 & 0 & 0 & 0 & 0\\\\0 & 0 & 0 & 1 & 0 & 0 & 0 & 0\\\\0 & 0 & 0 & 0 & 1 & 0 & 0 & 0\\\\0 & 0 & 0 & 0 & 0 & 1 & 0 & 0\\\\0 & 0 & 0 & 0 & 0 & 0 & 0 & 1\\\\0 & 0 & 0 & 0 & 0 & 0 & 1 & 0\\end{matrix}\\right]$"
      ],
      "text/plain": [
       "Matrix([\n",
       "[1, 0, 0, 0, 0, 0, 0, 0],\n",
       "[0, 1, 0, 0, 0, 0, 0, 0],\n",
       "[0, 0, 1, 0, 0, 0, 0, 0],\n",
       "[0, 0, 0, 1, 0, 0, 0, 0],\n",
       "[0, 0, 0, 0, 1, 0, 0, 0],\n",
       "[0, 0, 0, 0, 0, 1, 0, 0],\n",
       "[0, 0, 0, 0, 0, 0, 0, 1],\n",
       "[0, 0, 0, 0, 0, 0, 1, 0]])"
      ]
     },
     "execution_count": 18,
     "metadata": {},
     "output_type": "execute_result"
    }
   ],
   "source": [
    "c2z = Matrix([[1, 0, 0, 0, 0, 0,0,0], [0, 1, 0, 0, 0, 0,0,0], [0, 0, 1, 0, 0, 0,0,0], [0, 0, 0, 1, 0, 0,0,0], [0, 0, 0, 0, 1, 0,0,0], [0, 0, 0, 0, 0, 1,0,0], [0, 0, 0, 0, 0, 0,0,1], [0, 0, 0, 0, 0, 0,1,0]])\n",
    "c2z"
   ]
  },
  {
   "cell_type": "code",
   "execution_count": 19,
   "metadata": {},
   "outputs": [
    {
     "data": {
      "text/latex": [
       "$\\displaystyle \\left[\\begin{matrix}\\frac{1}{2} & \\frac{1}{2} & \\frac{1}{2} & - \\frac{1}{2}\\\\\\frac{1}{2} & - \\frac{1}{2} & \\frac{1}{2} & \\frac{1}{2}\\\\\\frac{1}{2} & \\frac{1}{2} & - \\frac{1}{2} & \\frac{1}{2}\\\\\\frac{1}{2} & - \\frac{1}{2} & - \\frac{1}{2} & - \\frac{1}{2}\\end{matrix}\\right]$"
      ],
      "text/plain": [
       "Matrix([\n",
       "[1/2,  1/2,  1/2, -1/2],\n",
       "[1/2, -1/2,  1/2,  1/2],\n",
       "[1/2,  1/2, -1/2,  1/2],\n",
       "[1/2, -1/2, -1/2, -1/2]])"
      ]
     },
     "execution_count": 19,
     "metadata": {},
     "output_type": "execute_result"
    }
   ],
   "source": [
    "Uw = z2 * cz * h2 * x2\n",
    "Uw "
   ]
  },
  {
   "cell_type": "code",
   "execution_count": 20,
   "metadata": {},
   "outputs": [
    {
     "data": {
      "text/latex": [
       "$\\displaystyle \\left[\\begin{matrix}\\frac{a c}{2} + \\frac{a d}{2} + \\frac{b c}{2} - \\frac{b d}{2}\\\\\\frac{a c}{2} - \\frac{a d}{2} + \\frac{b c}{2} + \\frac{b d}{2}\\\\\\frac{a c}{2} + \\frac{a d}{2} - \\frac{b c}{2} + \\frac{b d}{2}\\\\\\frac{a c}{2} - \\frac{a d}{2} - \\frac{b c}{2} - \\frac{b d}{2}\\end{matrix}\\right]$"
      ],
      "text/plain": [
       "Matrix([\n",
       "[a*c/2 + a*d/2 + b*c/2 - b*d/2],\n",
       "[a*c/2 - a*d/2 + b*c/2 + b*d/2],\n",
       "[a*c/2 + a*d/2 - b*c/2 + b*d/2],\n",
       "[a*c/2 - a*d/2 - b*c/2 - b*d/2]])"
      ]
     },
     "execution_count": 20,
     "metadata": {},
     "output_type": "execute_result"
    }
   ],
   "source": [
    "wi_prim = x2 * h2 * cz * z2 * q01\n",
    "wi_prim"
   ]
  },
  {
   "cell_type": "code",
   "execution_count": 39,
   "metadata": {},
   "outputs": [],
   "source": [
    "an = Matrix([Symbol(\"e\"), Symbol(\"f\")])"
   ]
  },
  {
   "cell_type": "code",
   "execution_count": 40,
   "metadata": {},
   "outputs": [
    {
     "data": {
      "text/latex": [
       "$\\displaystyle \\left[\\begin{matrix}e \\left(\\frac{a c}{2} + \\frac{a d}{2} + \\frac{b c}{2} - \\frac{b d}{2}\\right)\\\\f \\left(\\frac{a c}{2} + \\frac{a d}{2} + \\frac{b c}{2} - \\frac{b d}{2}\\right)\\\\e \\left(\\frac{a c}{2} - \\frac{a d}{2} + \\frac{b c}{2} + \\frac{b d}{2}\\right)\\\\f \\left(\\frac{a c}{2} - \\frac{a d}{2} + \\frac{b c}{2} + \\frac{b d}{2}\\right)\\\\e \\left(\\frac{a c}{2} + \\frac{a d}{2} - \\frac{b c}{2} + \\frac{b d}{2}\\right)\\\\f \\left(\\frac{a c}{2} + \\frac{a d}{2} - \\frac{b c}{2} + \\frac{b d}{2}\\right)\\\\e \\left(\\frac{a c}{2} - \\frac{a d}{2} - \\frac{b c}{2} - \\frac{b d}{2}\\right)\\\\f \\left(\\frac{a c}{2} - \\frac{a d}{2} - \\frac{b c}{2} - \\frac{b d}{2}\\right)\\end{matrix}\\right]$"
      ],
      "text/plain": [
       "Matrix([\n",
       "[e*(a*c/2 + a*d/2 + b*c/2 - b*d/2)],\n",
       "[f*(a*c/2 + a*d/2 + b*c/2 - b*d/2)],\n",
       "[e*(a*c/2 - a*d/2 + b*c/2 + b*d/2)],\n",
       "[f*(a*c/2 - a*d/2 + b*c/2 + b*d/2)],\n",
       "[e*(a*c/2 + a*d/2 - b*c/2 + b*d/2)],\n",
       "[f*(a*c/2 + a*d/2 - b*c/2 + b*d/2)],\n",
       "[e*(a*c/2 - a*d/2 - b*c/2 - b*d/2)],\n",
       "[f*(a*c/2 - a*d/2 - b*c/2 - b*d/2)]])"
      ]
     },
     "execution_count": 40,
     "metadata": {},
     "output_type": "execute_result"
    }
   ],
   "source": [
    "wi2 = TensorProduct(wi_prim, an)\n",
    "wi2"
   ]
  },
  {
   "cell_type": "code",
   "execution_count": 41,
   "metadata": {},
   "outputs": [
    {
     "data": {
      "text/latex": [
       "$\\displaystyle \\left[\\begin{matrix}e \\left(\\frac{a c}{2} + \\frac{a d}{2} + \\frac{b c}{2} - \\frac{b d}{2}\\right)\\\\f \\left(\\frac{a c}{2} + \\frac{a d}{2} + \\frac{b c}{2} - \\frac{b d}{2}\\right)\\\\e \\left(\\frac{a c}{2} - \\frac{a d}{2} + \\frac{b c}{2} + \\frac{b d}{2}\\right)\\\\f \\left(\\frac{a c}{2} - \\frac{a d}{2} + \\frac{b c}{2} + \\frac{b d}{2}\\right)\\\\e \\left(\\frac{a c}{2} + \\frac{a d}{2} - \\frac{b c}{2} + \\frac{b d}{2}\\right)\\\\f \\left(\\frac{a c}{2} + \\frac{a d}{2} - \\frac{b c}{2} + \\frac{b d}{2}\\right)\\\\f \\left(\\frac{a c}{2} - \\frac{a d}{2} - \\frac{b c}{2} - \\frac{b d}{2}\\right)\\\\e \\left(\\frac{a c}{2} - \\frac{a d}{2} - \\frac{b c}{2} - \\frac{b d}{2}\\right)\\end{matrix}\\right]$"
      ],
      "text/plain": [
       "Matrix([\n",
       "[e*(a*c/2 + a*d/2 + b*c/2 - b*d/2)],\n",
       "[f*(a*c/2 + a*d/2 + b*c/2 - b*d/2)],\n",
       "[e*(a*c/2 - a*d/2 + b*c/2 + b*d/2)],\n",
       "[f*(a*c/2 - a*d/2 + b*c/2 + b*d/2)],\n",
       "[e*(a*c/2 + a*d/2 - b*c/2 + b*d/2)],\n",
       "[f*(a*c/2 + a*d/2 - b*c/2 + b*d/2)],\n",
       "[f*(a*c/2 - a*d/2 - b*c/2 - b*d/2)],\n",
       "[e*(a*c/2 - a*d/2 - b*c/2 - b*d/2)]])"
      ]
     },
     "execution_count": 41,
     "metadata": {},
     "output_type": "execute_result"
    }
   ],
   "source": [
    "w_end = c2z * wi2\n",
    "w_end"
   ]
  },
  {
   "cell_type": "code",
   "execution_count": 43,
   "metadata": {},
   "outputs": [
    {
     "data": {
      "text/latex": [
       "$\\displaystyle e \\left(\\frac{a c}{2} + \\frac{a d}{2} + \\frac{b c}{2} - \\frac{b d}{2}\\right)$"
      ],
      "text/plain": [
       "e*(a*c/2 + a*d/2 + b*c/2 - b*d/2)"
      ]
     },
     "execution_count": 43,
     "metadata": {},
     "output_type": "execute_result"
    }
   ],
   "source": []
  },
  {
   "cell_type": "code",
   "execution_count": 58,
   "metadata": {},
   "outputs": [
    {
     "name": "stdout",
     "output_type": "stream",
     "text": [
      "[-0.5, -0.0, 0.5, 0.0, 0.5, 0.0, -0.0, -0.5]\n"
     ]
    },
    {
     "ename": "TypeError",
     "evalue": "can only concatenate str (not \"float\") to str",
     "output_type": "error",
     "traceback": [
      "\u001b[0;31m---------------------------------------------------------------------------\u001b[0m",
      "\u001b[0;31mTypeError\u001b[0m                                 Traceback (most recent call last)",
      "\u001b[0;32m<ipython-input-58-56c1a1c76be4>\u001b[0m in \u001b[0;36m<module>\u001b[0;34m\u001b[0m\n\u001b[1;32m     14\u001b[0m \u001b[0;34m\u001b[0m\u001b[0m\n\u001b[1;32m     15\u001b[0m         \u001b[0mprint\u001b[0m\u001b[0;34m(\u001b[0m\u001b[0;34m[\u001b[0m\u001b[0mi0\u001b[0m\u001b[0;34m,\u001b[0m\u001b[0mi1\u001b[0m\u001b[0;34m,\u001b[0m\u001b[0mi2\u001b[0m\u001b[0;34m,\u001b[0m\u001b[0mi3\u001b[0m\u001b[0;34m,\u001b[0m\u001b[0mi4\u001b[0m\u001b[0;34m,\u001b[0m\u001b[0mi5\u001b[0m\u001b[0;34m,\u001b[0m\u001b[0mi6\u001b[0m\u001b[0;34m,\u001b[0m\u001b[0mi7\u001b[0m\u001b[0;34m]\u001b[0m\u001b[0;34m)\u001b[0m\u001b[0;34m\u001b[0m\u001b[0;34m\u001b[0m\u001b[0m\n\u001b[0;32m---> 16\u001b[0;31m         \u001b[0mprint\u001b[0m\u001b[0;34m(\u001b[0m\u001b[0;34m\"a =\"\u001b[0m \u001b[0;34m+\u001b[0m \u001b[0mi0\u001b[0m\u001b[0;34m)\u001b[0m\u001b[0;34m\u001b[0m\u001b[0;34m\u001b[0m\u001b[0m\n\u001b[0m",
      "\u001b[0;31mTypeError\u001b[0m: can only concatenate str (not \"float\") to str"
     ]
    }
   ],
   "source": [
    "l = [(0,1),(1,0),(-1,0),(0,-1)]\n",
    "[e, f] = (1, 0)\n",
    "for a, b in l:\n",
    "    for c, d in l:\n",
    "        i0=𝑒*(𝑎*𝑐/2 + 𝑎*𝑑/2 + 𝑏*𝑐/2 - 𝑏*𝑑/2)\n",
    "        i1=𝑓*(𝑎*𝑐/2+𝑎*𝑑/2+𝑏*𝑐/2-𝑏*𝑑/2)\n",
    "        i2=𝑒*(𝑎*𝑐/2-𝑎*𝑑/2+𝑏*𝑐/2+𝑏*𝑑/2)\n",
    "        i3=𝑓*(𝑎*𝑐/2-𝑎*𝑑/2+𝑏*𝑐/2+𝑏*𝑑/2)\n",
    "        i4=𝑒*(𝑎*𝑐/2+𝑎*𝑑/2-𝑏*𝑐/2+𝑏*𝑑/2)\n",
    "        i5=𝑓*(𝑎*𝑐/2+𝑎*𝑑/2-𝑏*𝑐/2+𝑏*𝑑/2)\n",
    "        i6=𝑓*(𝑎*𝑐/2-𝑎*𝑑/2-𝑏*𝑐/2-𝑏*𝑑/2)\n",
    "        i7=𝑒*(𝑎*𝑐/2-𝑎*𝑑/2-𝑏*𝑐/2-𝑏*𝑑/2)\n",
    "        \n",
    "        \n",
    "        print([i0,i1,i2,i3,i4,i5,i6,i7])\n",
    "        print(\"a =\" + i0)\n"
   ]
  },
  {
   "cell_type": "code",
   "execution_count": null,
   "metadata": {},
   "outputs": [],
   "source": [
    "xy = Matrix([Symbol(\"x\"), Symbol(\"y\")])\n",
    "zw\n",
    "uv = Matrix([])\n"
   ]
  },
  {
   "cell_type": "code",
   "execution_count": null,
   "metadata": {},
   "outputs": [],
   "source": [
    "Ui = "
   ]
  }
 ],
 "metadata": {
  "kernelspec": {
   "display_name": "Python 3",
   "language": "python",
   "name": "python3"
  },
  "language_info": {
   "codemirror_mode": {
    "name": "ipython",
    "version": 3
   },
   "file_extension": ".py",
   "mimetype": "text/x-python",
   "name": "python",
   "nbconvert_exporter": "python",
   "pygments_lexer": "ipython3",
   "version": "3.7.4"
  }
 },
 "nbformat": 4,
 "nbformat_minor": 2
}
