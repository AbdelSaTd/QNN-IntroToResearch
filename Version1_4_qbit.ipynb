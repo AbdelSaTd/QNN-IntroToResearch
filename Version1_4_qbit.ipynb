{
 "cells": [
  {
   "cell_type": "code",
   "execution_count": 5,
   "metadata": {},
   "outputs": [],
   "source": [
    "from qiskit import *\n",
    "import numpy as np\n",
    "qiskit.__qiskit_version__\n",
    "%matplotlib inline"
   ]
  },
  {
   "cell_type": "code",
   "execution_count": 6,
   "metadata": {},
   "outputs": [],
   "source": [
    "def multiCont2(circ, q1, q2):\n",
    "    circ.cz(q1, q2)"
   ]
  },
  {
   "cell_type": "code",
   "execution_count": 7,
   "metadata": {},
   "outputs": [
    {
     "data": {
      "text/plain": [
       "<qiskit.circuit.instructionset.InstructionSet at 0x127577460>"
      ]
     },
     "execution_count": 7,
     "metadata": {},
     "output_type": "execute_result"
    }
   ],
   "source": [
    "N = 5 # number of qubit\n",
    "qr = QuantumRegister(N)\n",
    "cr = ClassicalRegister(1)\n",
    "circ = QuantumCircuit(qr, cr)\n",
    "\n",
    "\n",
    "circ.h(qr[0])\n",
    "circ.h(qr[1])\n",
    "circ.h(qr[2])\n",
    "circ.h(qr[3])\n",
    "\n",
    "\n",
    "circ.z(qr[0])\n",
    "circ.z(qr[1])\n",
    "circ.z(qr[2])\n",
    "\n",
    "multiCont2(circ, qr[1], qr[2])\n",
    "multiCont2(circ, qr[0], qr[2])\n",
    "multiCont2(circ, qr[0], qr[1])\n",
    "\n",
    "#three-controlled-Z gate (here)\n",
    "#circ.ccz(qr[0], qr[1], qr[2])\n",
    "\n",
    "circ.z(qr[1])\n",
    "circ.z(qr[2])\n",
    "\n",
    "multiCont2(circ, qr[1], qr[3])\n",
    "multiCont2(circ, qr[0], qr[2])\n",
    "multiCont2(circ, qr[0], qr[1])\n",
    "multiCont2(circ, qr[0], qr[2])\n",
    "\n",
    "#three-controlled-Z gate (here)\n",
    "#three-controlled-Z gate (here)\n",
    "#three-controlled-Z gate (here)\n",
    "\n",
    "circ.h(qr[0])\n",
    "circ.h(qr[1])\n",
    "circ.h(qr[2])\n",
    "circ.h(qr[3])\n",
    "\n",
    "circ.x(qr[0])\n",
    "circ.x(qr[1])\n",
    "circ.x(qr[2])\n",
    "circ.x(qr[3])\n",
    "\n",
    "#quadri-controlled-X gate\n",
    "\n",
    "circ.measure(qr[4], cr) #measure of the ancilla qubit\n"
   ]
  },
  {
   "cell_type": "code",
   "execution_count": 8,
   "metadata": {},
   "outputs": [
    {
     "data": {
      "image/png": "[encoded data removed]",
      "text/plain": [
       "<Figure size 911.428x385.28 with 1 Axes>"
      ]
     },
     "execution_count": 8,
     "metadata": {},
     "output_type": "execute_result"
    }
   ],
   "source": [
    "circ.draw(output='mpl')"
   ]
  },
  {
   "cell_type": "code",
   "execution_count": null,
   "metadata": {},
   "outputs": [],
   "source": []
  }
 ],
 "metadata": {
  "kernelspec": {
   "display_name": "Python 3",
   "language": "python",
   "name": "python3"
  },
  "language_info": {
   "codemirror_mode": {
    "name": "ipython",
    "version": 3
   },
   "file_extension": ".py",
   "mimetype": "text/x-python",
   "name": "python",
   "nbconvert_exporter": "python",
   "pygments_lexer": "ipython3",
   "version": "3.8.1"
  }
 },
 "nbformat": 4,
 "nbformat_minor": 2
}
