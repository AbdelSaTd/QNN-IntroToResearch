{
 "cells": [
  {
   "cell_type": "code",
   "execution_count": 12,
   "metadata": {},
   "outputs": [],
   "source": [
    "from sympy import *\n",
    "from sympy.physics.quantum import TensorProduct"
   ]
  },
  {
   "cell_type": "code",
   "execution_count": 49,
   "metadata": {},
   "outputs": [
    {
     "data": {
      "text/latex": [
       "$\\displaystyle \\left[\\begin{matrix}\\frac{a c}{2} + \\frac{a d}{2} + \\frac{b c}{2} + \\frac{b d}{2}\\\\\\frac{a c}{2} - \\frac{a d}{2} + \\frac{b c}{2} - \\frac{b d}{2}\\\\\\frac{a c}{2} + \\frac{a d}{2} - \\frac{b c}{2} - \\frac{b d}{2}\\\\- \\frac{a c}{2} + \\frac{a d}{2} + \\frac{b c}{2} - \\frac{b d}{2}\\end{matrix}\\right]$"
      ],
      "text/plain": [
       "Matrix([\n",
       "[ a*c/2 + a*d/2 + b*c/2 + b*d/2],\n",
       "[ a*c/2 - a*d/2 + b*c/2 - b*d/2],\n",
       "[ a*c/2 + a*d/2 - b*c/2 - b*d/2],\n",
       "[-a*c/2 + a*d/2 + b*c/2 - b*d/2]])"
      ]
     },
     "execution_count": 49,
     "metadata": {},
     "output_type": "execute_result"
    }
   ],
   "source": [
    "q0 = Matrix([Symbol(\"a\"), Symbol(\"b\")])\n",
    "q1 = Matrix([Symbol(\"c\"), Symbol(\"d\")])\n",
    "\n",
    "q01 = TensorProduct(q0,q1)\n",
    "\n",
    "h = Matrix([[1/sqrt(2), 1/sqrt(2)], [1/sqrt(2), -1/sqrt(2)]])\n",
    "z = Matrix([[1, 0], [0, -1]])\n",
    "i = eye(2)\n",
    "zi = TensorProduct(z, i)\n",
    "h2 = TensorProduct(h, h)                                                           \n",
    "\n",
    "hi = TensorProduct(h, i)\n",
    "\n",
    "cz = Matrix([[1, 0, 0, 0], [0, 1, 0, 0], [0, 0, 1, 0], [0, 0, 0, -1]])\n",
    "#11 = Matrix([1, 2], [3,4])\n",
    "et1 = h2 * q01\n",
    "mdb = cz * h2\n",
    "et2 = mdb * q01\n",
    "et2"
   ]
  },
  {
   "cell_type": "code",
   "execution_count": 35,
   "metadata": {},
   "outputs": [
    {
     "data": {
      "text/latex": [
       "$\\displaystyle \\left[\\begin{matrix}a e\\\\a d\\\\b e\\\\b d\\end{matrix}\\right]$"
      ],
      "text/plain": [
       "Matrix([\n",
       "[a*e],\n",
       "[a*d],\n",
       "[b*e],\n",
       "[b*d]])"
      ]
     },
     "execution_count": 35,
     "metadata": {},
     "output_type": "execute_result"
    }
   ],
   "source": [
    "q01"
   ]
  },
  {
   "cell_type": "code",
   "execution_count": 51,
   "metadata": {},
   "outputs": [
    {
     "data": {
      "text/latex": [
       "$\\displaystyle \\left[\\begin{matrix}\\frac{1}{2} & \\frac{1}{2} & \\frac{1}{2} & \\frac{1}{2}\\\\\\frac{1}{2} & - \\frac{1}{2} & \\frac{1}{2} & - \\frac{1}{2}\\\\\\frac{1}{2} & \\frac{1}{2} & - \\frac{1}{2} & - \\frac{1}{2}\\\\\\frac{1}{2} & - \\frac{1}{2} & - \\frac{1}{2} & \\frac{1}{2}\\end{matrix}\\right]$"
      ],
      "text/plain": [
       "Matrix([\n",
       "[1/2,  1/2,  1/2,  1/2],\n",
       "[1/2, -1/2,  1/2, -1/2],\n",
       "[1/2,  1/2, -1/2, -1/2],\n",
       "[1/2, -1/2, -1/2,  1/2]])"
      ]
     },
     "execution_count": 51,
     "metadata": {},
     "output_type": "execute_result"
    }
   ],
   "source": [
    "h2"
   ]
  },
  {
   "cell_type": "code",
   "execution_count": 52,
   "metadata": {},
   "outputs": [
    {
     "data": {
      "text/latex": [
       "$\\displaystyle \\left[\\begin{matrix}1 & 0 & 0 & 0\\\\0 & 1 & 0 & 0\\\\0 & 0 & -1 & 0\\\\0 & 0 & 0 & -1\\end{matrix}\\right]$"
      ],
      "text/plain": [
       "Matrix([\n",
       "[1, 0,  0,  0],\n",
       "[0, 1,  0,  0],\n",
       "[0, 0, -1,  0],\n",
       "[0, 0,  0, -1]])"
      ]
     },
     "execution_count": 52,
     "metadata": {},
     "output_type": "execute_result"
    }
   ],
   "source": [
    "zi"
   ]
  },
  {
   "cell_type": "code",
   "execution_count": 50,
   "metadata": {},
   "outputs": [
    {
     "data": {
      "text/latex": [
       "$\\displaystyle \\left[\\begin{matrix}1 & 0 & 0 & 0\\\\0 & 1 & 0 & 0\\\\0 & 0 & 1 & 0\\\\0 & 0 & 0 & -1\\end{matrix}\\right]$"
      ],
      "text/plain": [
       "Matrix([\n",
       "[1, 0, 0,  0],\n",
       "[0, 1, 0,  0],\n",
       "[0, 0, 1,  0],\n",
       "[0, 0, 0, -1]])"
      ]
     },
     "execution_count": 50,
     "metadata": {},
     "output_type": "execute_result"
    }
   ],
   "source": [
    "cz"
   ]
  },
  {
   "cell_type": "code",
   "execution_count": 55,
   "metadata": {
    "scrolled": true
   },
   "outputs": [
    {
     "data": {
      "text/latex": [
       "$\\displaystyle \\left[\\begin{matrix}\\frac{1}{2} & \\frac{1}{2} & - \\frac{1}{2} & \\frac{1}{2}\\\\\\frac{1}{2} & - \\frac{1}{2} & - \\frac{1}{2} & - \\frac{1}{2}\\\\\\frac{1}{2} & \\frac{1}{2} & \\frac{1}{2} & - \\frac{1}{2}\\\\\\frac{1}{2} & - \\frac{1}{2} & \\frac{1}{2} & \\frac{1}{2}\\end{matrix}\\right]$"
      ],
      "text/plain": [
       "Matrix([\n",
       "[1/2,  1/2, -1/2,  1/2],\n",
       "[1/2, -1/2, -1/2, -1/2],\n",
       "[1/2,  1/2,  1/2, -1/2],\n",
       "[1/2, -1/2,  1/2,  1/2]])"
      ]
     },
     "execution_count": 55,
     "metadata": {},
     "output_type": "execute_result"
    }
   ],
   "source": [
    "et3 = h2 * zi * cz\n",
    "et3"
   ]
  },
  {
   "cell_type": "code",
   "execution_count": 57,
   "metadata": {},
   "outputs": [
    {
     "data": {
      "text/latex": [
       "$\\displaystyle \\left[\\begin{matrix}\\frac{1}{2} & \\frac{1}{2} & \\frac{1}{2} & \\frac{1}{2}\\\\\\frac{1}{2} & - \\frac{1}{2} & \\frac{1}{2} & - \\frac{1}{2}\\\\- \\frac{1}{2} & - \\frac{1}{2} & \\frac{1}{2} & \\frac{1}{2}\\\\\\frac{1}{2} & - \\frac{1}{2} & - \\frac{1}{2} & \\frac{1}{2}\\end{matrix}\\right]$"
      ],
      "text/plain": [
       "Matrix([\n",
       "[ 1/2,  1/2,  1/2,  1/2],\n",
       "[ 1/2, -1/2,  1/2, -1/2],\n",
       "[-1/2, -1/2,  1/2,  1/2],\n",
       "[ 1/2, -1/2, -1/2,  1/2]])"
      ]
     },
     "execution_count": 57,
     "metadata": {},
     "output_type": "execute_result"
    }
   ],
   "source": [
    "et3p = cz * zi * h2\n",
    "et3p"
   ]
  },
  {
   "cell_type": "code",
   "execution_count": 56,
   "metadata": {},
   "outputs": [
    {
     "data": {
      "text/latex": [
       "$\\displaystyle \\left[\\begin{matrix}\\frac{a c}{2} + \\frac{a d}{2} - \\frac{b c}{2} + \\frac{b d}{2}\\\\\\frac{a c}{2} - \\frac{a d}{2} - \\frac{b c}{2} - \\frac{b d}{2}\\\\\\frac{a c}{2} + \\frac{a d}{2} + \\frac{b c}{2} - \\frac{b d}{2}\\\\\\frac{a c}{2} - \\frac{a d}{2} + \\frac{b c}{2} + \\frac{b d}{2}\\end{matrix}\\right]$"
      ],
      "text/plain": [
       "Matrix([\n",
       "[a*c/2 + a*d/2 - b*c/2 + b*d/2],\n",
       "[a*c/2 - a*d/2 - b*c/2 - b*d/2],\n",
       "[a*c/2 + a*d/2 + b*c/2 - b*d/2],\n",
       "[a*c/2 - a*d/2 + b*c/2 + b*d/2]])"
      ]
     },
     "execution_count": 56,
     "metadata": {},
     "output_type": "execute_result"
    }
   ],
   "source": [
    "et3 * q01"
   ]
  },
  {
   "cell_type": "code",
   "execution_count": 59,
   "metadata": {},
   "outputs": [
    {
     "data": {
      "text/latex": [
       "$\\displaystyle \\left[\\begin{matrix}\\frac{a c}{2} + \\frac{a d}{2} + \\frac{b c}{2} + \\frac{b d}{2}\\\\\\frac{a c}{2} - \\frac{a d}{2} + \\frac{b c}{2} - \\frac{b d}{2}\\\\- \\frac{a c}{2} - \\frac{a d}{2} + \\frac{b c}{2} + \\frac{b d}{2}\\\\\\frac{a c}{2} - \\frac{a d}{2} - \\frac{b c}{2} + \\frac{b d}{2}\\end{matrix}\\right]$"
      ],
      "text/plain": [
       "Matrix([\n",
       "[ a*c/2 + a*d/2 + b*c/2 + b*d/2],\n",
       "[ a*c/2 - a*d/2 + b*c/2 - b*d/2],\n",
       "[-a*c/2 - a*d/2 + b*c/2 + b*d/2],\n",
       "[ a*c/2 - a*d/2 - b*c/2 + b*d/2]])"
      ]
     },
     "execution_count": 59,
     "metadata": {},
     "output_type": "execute_result"
    }
   ],
   "source": [
    "et3p * q01"
   ]
  },
  {
   "cell_type": "code",
   "execution_count": null,
   "metadata": {},
   "outputs": [],
   "source": []
  }
 ],
 "metadata": {
  "kernelspec": {
   "display_name": "Python 3",
   "language": "python",
   "name": "python3"
  },
  "language_info": {
   "codemirror_mode": {
    "name": "ipython",
    "version": 3
   },
   "file_extension": ".py",
   "mimetype": "text/x-python",
   "name": "python",
   "nbconvert_exporter": "python",
   "pygments_lexer": "ipython3",
   "version": "3.7.4"
  }
 },
 "nbformat": 4,
 "nbformat_minor": 2
}
