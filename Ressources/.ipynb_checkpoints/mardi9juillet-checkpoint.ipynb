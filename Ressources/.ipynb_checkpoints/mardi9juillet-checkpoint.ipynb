{
 "cells": [
  {
   "cell_type": "markdown",
   "metadata": {},
   "source": [
    "# <span style=\"color:red\">Welcome !</span>\n",
    "\n",
    "## Quantum Computing with QISKit \"Hello World!\" \n",
    "\n",
    "#### <span style=\"color:blue\"><em>Jean-Michel Torres, IBM Q Hub France, July 9th 2019</em></span>\n",
    "\n",
    "Content under Apache Licence version 2\n",
    "\n",
    "Star, download, or use from mybinder at: https://github.com/jmit34/20190709\n",
    "\n",
    "### Content:\n",
    "<ol>\n",
    "    <li>Quantum Experience: composer overview</li>\n",
    "    <li>Python & Jupyter warm-up</li>\n",
    "    <li>QISKit: single \"classical\" qubit</li>\n",
    "    <li>QISKit: multi-\"classical\"-qubit gates</li>\n",
    "    <li>Qubits quantum states</li>\n",
    "    <li>Quantum emoticon</li>\n",
    "    <li>More about quantum computing</li>\n",
    "</ol>\n"
   ]
  },
  {
   "cell_type": "markdown",
   "metadata": {},
   "source": [
    "# 1. Quantum Experience: composer demo\n",
    "\n",
    "https://youtu.be/wfsUxdYSOFs\n",
    "\n",
    "https://www.research.ibm.com/ibm-q/"
   ]
  },
  {
   "cell_type": "markdown",
   "metadata": {},
   "source": [
    "# 2. Python & Jupyter warm-up"
   ]
  },
  {
   "cell_type": "code",
   "execution_count": null,
   "metadata": {},
   "outputs": [],
   "source": [
    "a = 34"
   ]
  },
  {
   "cell_type": "code",
   "execution_count": null,
   "metadata": {},
   "outputs": [],
   "source": [
    "print(a)"
   ]
  },
  {
   "cell_type": "code",
   "execution_count": null,
   "metadata": {},
   "outputs": [],
   "source": [
    "from math import sin, sqrt\n",
    "\n",
    "a = 2\n",
    "b = sqrt(a)\n",
    "print(b)\n",
    "c = sin(a)\n",
    "print(c)"
   ]
  },
  {
   "cell_type": "markdown",
   "metadata": {},
   "source": [
    "## Looping, testing : Monte-Carlo example"
   ]
  },
  {
   "cell_type": "code",
   "execution_count": null,
   "metadata": {
    "scrolled": true
   },
   "outputs": [],
   "source": [
    "import random\n",
    "import time\n",
    "\n",
    "start_time = time.time()\n",
    "\n",
    "#---> calculation starts here\n",
    "iterations = 5_000_000                              # change this for accuracy vs duration \n",
    "hit = 0                                             # counter of random hits with module < 1 \n",
    "for i in range(iterations):\n",
    "    if random.random()**2 + random.random()**2 < 1: # random(a,b) returns a pseudo random float between a and b\n",
    "        hit += 1\n",
    "#---> calulation ends here\n",
    "\n",
    "end_time = time.time()\n",
    "duration = end_time - start_time\n",
    "\n",
    "print(f\"Total execution time: {duration:.1f} seconds\")\n",
    "print(f\"Pi = {4 * hit / iterations:.8f}\")"
   ]
  },
  {
   "cell_type": "markdown",
   "metadata": {},
   "source": [
    "## Finding the factors of a large integer"
   ]
  },
  {
   "cell_type": "code",
   "execution_count": null,
   "metadata": {},
   "outputs": [],
   "source": [
    "import time\n",
    "from math import sqrt,floor\n",
    "\n",
    "start_time = time.time()\n",
    "# choose one (depending on your ratio patience/CPU)\n",
    "d =         6721502531819 #(~0.4 sec)  (13 digits)\n",
    "#d =    40355369611024687 #(~30 sec)   (17 digits)\n",
    "#d = 70552560783426882343 #(~2100 sec) (20 digits)\n",
    "\n",
    "maxCalc = floor(sqrt(d))\n",
    "\n",
    "for i in range(2,maxCalc):\n",
    "    if d % i == 0:\n",
    "        print(i)\n",
    "        break\n",
    "\n",
    "end_time = time.time()\n",
    "duration = end_time - start_time\n",
    "print(f\"Total execution time: {duration:.1f} seconds\")\n",
    "print(f\"Loops per second {i / duration:.0f}\")"
   ]
  },
  {
   "cell_type": "markdown",
   "metadata": {},
   "source": [
    "# 3. QISKit: single qubit."
   ]
  },
  {
   "cell_type": "markdown",
   "metadata": {},
   "source": [
    "## <span style=\"color:red\"><em>Quantum program structure, single \"bit-flip\": NOT (aka X-gate)</em></span>"
   ]
  },
  {
   "cell_type": "markdown",
   "metadata": {},
   "source": [
    "#### imports\n",
    "We need to import from qiskit : \n",
    "<ul>\n",
    "    <li>QuantumRegister : to define and use qubits</li>\n",
    "    <li>ClassicalRegister : to get a \"classical\" measurement of the qubits after computation has happened</li>\n",
    "    <li>QuantumCircuit to be able to compose your calculation</li>\n",
    "    <li>execute : this will be used to actually \"run\" your circuit</li>\n",
    "</ul>    \n"
   ]
  },
  {
   "cell_type": "code",
   "execution_count": null,
   "metadata": {},
   "outputs": [],
   "source": [
    "from qiskit import QuantumRegister, ClassicalRegister, QuantumCircuit, execute"
   ]
  },
  {
   "cell_type": "markdown",
   "metadata": {},
   "source": [
    "#### define needed registers and build quantum circuit\n",
    "for example let's define `qr` as a quantum register of size 1 (because we will be using only 1 qubit here)\n",
    "\n",
    "`<register_name> = QuantumRegister(size)` \n",
    "\n",
    "and let's define `cr` as a classical register with that same size. Similar notation using ClassicalRegister constructor\n"
   ]
  },
  {
   "cell_type": "code",
   "execution_count": null,
   "metadata": {},
   "outputs": [],
   "source": [
    "# define registers here, size 1\n",
    "qr = QuantumRegister(1)\n",
    "cr = ClassicalRegister(1)"
   ]
  },
  {
   "cell_type": "markdown",
   "metadata": {},
   "source": [
    "Let's define a quantum circuit using `qc` and `cr`\n",
    "\n",
    "`<circuit> = QuantumCircuit(<quantum_register>, <classical_register>)`\n"
   ]
  },
  {
   "cell_type": "code",
   "execution_count": null,
   "metadata": {},
   "outputs": [],
   "source": [
    "# define quantum  circuit here \n",
    "my_circuit = QuantumCircuit(qr,cr)"
   ]
  },
  {
   "cell_type": "markdown",
   "metadata": {},
   "source": [
    "Then you can add a gate (in this case NOT is the `x` gate: reverse 0 to 1 and 1 to 0, this way: \n",
    "\n",
    "`<circuit>.gate(<qubits>)`\n",
    "\n",
    "where `<circuit>` is the circuit object you have created above, and `<qubits>`is the list of qubit on which the gate applies `qr[0]` in this case."
   ]
  },
  {
   "cell_type": "code",
   "execution_count": null,
   "metadata": {},
   "outputs": [],
   "source": [
    "# add not gate here \n",
    "my_circuit.x(qr[0])"
   ]
  },
  {
   "cell_type": "markdown",
   "metadata": {},
   "source": [
    "Add another gate to your circuit, this one is special : it comes at the end and uses `qr` and `cr`\n",
    "\n",
    "`<circuit>.measure(<qr,cr>)`    \n",
    "\n",
    "this will measure the states of the qubits from the quantum register, and load values into the classical register."
   ]
  },
  {
   "cell_type": "code",
   "execution_count": null,
   "metadata": {
    "scrolled": true
   },
   "outputs": [],
   "source": [
    "# add measurement gate here \n",
    "my_circuit.measure(qr,cr)"
   ]
  },
  {
   "cell_type": "markdown",
   "metadata": {},
   "source": [
    "You can now visualize the circuit using the .draw() method on your circuit : `<circuit>.draw()`\n",
    " "
   ]
  },
  {
   "cell_type": "code",
   "execution_count": null,
   "metadata": {},
   "outputs": [],
   "source": [
    "# use draw method: \n",
    "my_circuit.draw(output='mpl')"
   ]
  },
  {
   "cell_type": "markdown",
   "metadata": {},
   "source": [
    "### prepare for execution\n",
    "\n",
    "First select on which device (one of the IBM Q machines or simulator we will run our experiment on), this is called the \"backend\".\n",
    "\n",
    "Here we select the local simulator. Later in the notebook we show a connection to a real device."
   ]
  },
  {
   "cell_type": "code",
   "execution_count": null,
   "metadata": {
    "scrolled": true
   },
   "outputs": [],
   "source": [
    "from qiskit import Aer\n",
    "print(Aer.backends())\n",
    "backend = Aer.get_backend('qasm_simulator')"
   ]
  },
  {
   "cell_type": "markdown",
   "metadata": {},
   "source": [
    "### execute, and read results\n",
    "\n",
    "Now we execute our experiment using the `execute` function, returning a \"job result\" object:\n",
    "\n",
    "`execute()` uses these parameters: \n",
    "<ul>\n",
    "    <li>circuit object, that we have build</li>\n",
    "    <li>the device on which we execute (in our example this is stored in \"backend\")</li>\n",
    "    <li>the number of \"shots\" we want to run, eg: \"shots=1024\" (from 1 to 8192)</li>\n",
    "</ul>  \n",
    "\n",
    "The syntax is: \n",
    "\n",
    "`<myjob> = execute(<my_circuit>,<backend>,shots=nnnn)` \n",
    "\n",
    "Then we store the result in a variable `<my_result>` using `.result()` method on the job\n",
    "\n",
    "Finally, we can print `<my_result>.get_counts(<my_circuit>)`\n"
   ]
  },
  {
   "cell_type": "code",
   "execution_count": null,
   "metadata": {
    "scrolled": true
   },
   "outputs": [],
   "source": [
    "# define job, get results\n",
    "job = execute(my_circuit,backend,shots=1024)\n",
    "my_result = job.result()\n",
    "print(my_result.get_counts(my_circuit))  "
   ]
  },
  {
   "cell_type": "code",
   "execution_count": null,
   "metadata": {
    "scrolled": false
   },
   "outputs": [],
   "source": [
    "# plot results\n",
    "from qiskit.tools.visualization import plot_histogram\n",
    "plot_histogram(my_result.get_counts(my_circuit))"
   ]
  },
  {
   "cell_type": "markdown",
   "metadata": {},
   "source": [
    "# 3. QISKit: multi-qbit gates"
   ]
  },
  {
   "cell_type": "markdown",
   "metadata": {},
   "source": [
    "## <span style=\"color:red\"><em>3.1 CNOT controlled not </em></span>\n",
    "\n",
    "### flips state of qbit B if qbit A is 1 (else leave B in original state).\n",
    "<img src=\"./images/CNOT.png\" alt=\"Note: In order for images to show up in this jupyter notebook you need to select File => Trusted Notebook\" width=\"350 px\" align=\"left\">\n",
    "\n",
    "The CNOT gate syntax is : `.cx(<control_qubit,target_qubit)`\n",
    "\n",
    "Don't forget to define quantum and classical registers with size 2. \n",
    "The build a quantum circuit. You can use `x` gate on qbit0 to experiment the cnot effect. "
   ]
  },
  {
   "cell_type": "code",
   "execution_count": null,
   "metadata": {},
   "outputs": [],
   "source": [
    "# define registers, size 2\n"
   ]
  },
  {
   "cell_type": "code",
   "execution_count": null,
   "metadata": {
    "scrolled": false
   },
   "outputs": [],
   "source": [
    "# define circuit using the registers you just created\n",
    "\n",
    "\n",
    "# add x on qubit0 (or not): try with one or two combinations\n",
    "\n",
    "\n",
    "# add cnot control bit qbit0, target qubit1\n",
    "\n",
    "# add .measure()\n",
    "\n",
    "# add .draw(output='mpl')\n"
   ]
  },
  {
   "cell_type": "code",
   "execution_count": null,
   "metadata": {},
   "outputs": [],
   "source": [
    "# execute, get results \n",
    "job = execute(circ,backend, shots=1024)\n",
    "result = job.result()\n",
    "result.get_counts(circ)"
   ]
  },
  {
   "cell_type": "code",
   "execution_count": null,
   "metadata": {
    "scrolled": false
   },
   "outputs": [],
   "source": [
    "plot_histogram(result.get_counts(circ))"
   ]
  },
  {
   "cell_type": "markdown",
   "metadata": {},
   "source": [
    "## <span style=\"color:red\"><em>3.3 CONTROL-SWAP : Fredkin gate</em></span>\n",
    "\n",
    "\n",
    "### if A == 1 then swap B and C states.\n",
    "<img src=\"./images/Fredkin.png\" alt=\"Note: In order for images to show up in this jupyter notebook you need to select File => Trusted Notebook\" width=\"300 px\" align=\"left\">\n",
    "\n",
    "\n",
    "control-swap syntax: \n",
    "\n",
    "`<circuit>.cswap(control_qubit, swapped_qubit, swapped_qubit)`"
   ]
  },
  {
   "cell_type": "code",
   "execution_count": null,
   "metadata": {
    "scrolled": true
   },
   "outputs": [],
   "source": [
    "# define registers, circuit, add X on qubit 0, and/or 1, and/or 2 to view differentt cases: \n",
    "qr = QuantumRegister(3)\n",
    "cr = ClassicalRegister(3)\n",
    "qc_cswap = QuantumCircuit(qr,cr)\n",
    "qc_cswap.x(qr[0])\n",
    "qc_cswap.x(qr[1])\n",
    "\n",
    "#add cswap\n",
    "\n",
    "qc_cswap.cswap(qr[0],qr[1],qr[2])\n",
    "\n",
    "#add measure and draw\n",
    "\n",
    "qc_cswap.measure(qr,cr)\n",
    "qc_cswap.draw(output='mpl')"
   ]
  },
  {
   "cell_type": "code",
   "execution_count": null,
   "metadata": {
    "scrolled": true
   },
   "outputs": [],
   "source": [
    "# execute, get results, plot...\n",
    "\n",
    "job = execute(qc_cswap,backend, shots=1024)\n",
    "result = job.result()\n",
    "result.get_counts(qc_cswap)\n",
    "plot_histogram(result.get_counts(qc_cswap))"
   ]
  },
  {
   "cell_type": "markdown",
   "metadata": {},
   "source": [
    "## <span style=\"color:red\"><em>3.3 CONTROL-CONTROL-NOT Toffoli gate</em></span>\n",
    "\n",
    "### if A == 1 and B == 1, then flip C\n",
    "<img src=\"./images/Toffoli.png\" alt=\"Note: In order for images to show up in this jupyter notebook you need to select File => Trusted Notebook\" width=\"350 px\" align=\"left\">\n",
    "Notes:\n",
    "<ol>\n",
    "    <li><span style=\"color:green\"><em>Toffoli gate is universal</em></span></li>\n",
    "    <li><span style=\"color:green\"><em>Quantum gates are reversible.</em></span></li>\n",
    "</ol>\n",
    "control-control-not syntax : \n",
    "\n",
    "`<circuit>.ccx(control_qubitA, control_qubitB, taget_qubit)`"
   ]
  },
  {
   "cell_type": "code",
   "execution_count": null,
   "metadata": {
    "scrolled": true
   },
   "outputs": [],
   "source": [
    "# define registers, size 3\n",
    "qr = QuantumRegister(3)\n",
    "cr = ClassicalRegister(3)\n",
    "# define quantum circuit\n",
    "\n",
    "qc_ccnot = QuantumCircuit(qr,cr)\n",
    "\n",
    "# add x on qubit0 and/or qubit 1 to view different results \n",
    "qc_ccnot.x(qr[0])\n",
    "qc_ccnot.x(qr[1])\n",
    "\n",
    "# add ccnot, measure, draw \n",
    "qc_ccnot.ccx(qr[0],qr[1],qr[2])\n",
    "qc_ccnot.measure(qr,cr)\n",
    "qc_ccnot.draw(output='mpl')"
   ]
  },
  {
   "cell_type": "code",
   "execution_count": null,
   "metadata": {},
   "outputs": [],
   "source": [
    "# execute, get results, plot\n",
    "job = execute(qc_ccnot,backend, shots=1024)\n",
    "result = job.result()\n",
    "result.get_counts(qc_ccnot)\n",
    "plot_histogram(result.get_counts(qc_ccnot))"
   ]
  },
  {
   "cell_type": "markdown",
   "metadata": {},
   "source": [
    "## <span style=\"color:red\"><em>3.4 What does this do ?</em></span>\n",
    "\n",
    "This is a basic 2 qubits gate, can you figure out what this does ? "
   ]
  },
  {
   "cell_type": "code",
   "execution_count": null,
   "metadata": {},
   "outputs": [],
   "source": [
    "qr = QuantumRegister(2)\n",
    "cr = ClassicalRegister(2)\n",
    "mystery = QuantumCircuit(qr,cr)\n",
    "###########################\n",
    "mystery.cx(qr[0],qr[1])\n",
    "mystery.cx(qr[1],qr[0])\n",
    "mystery.cx(qr[0],qr[1])\n",
    "mystery.measure(qr,cr)\n",
    "###########################\n",
    "mystery.draw(output='mpl')"
   ]
  },
  {
   "cell_type": "markdown",
   "metadata": {},
   "source": [
    ".... Hint, try this (will run the above circuit against all input combinations 00,01,10,11 and will show you the result): "
   ]
  },
  {
   "cell_type": "code",
   "execution_count": null,
   "metadata": {},
   "outputs": [],
   "source": [
    "print(\"       q0 q1\")\n",
    "print(\"       -- --\")\n",
    "for i in range(4): \n",
    "    qc = QuantumCircuit(qr,cr)\n",
    "    if i%2: \n",
    "        qc.x(qr[0])\n",
    "    if i>1:\n",
    "        qc.x(qr[1])\n",
    "        \n",
    "    # this is the same circuit as above #\n",
    "    qc.cx(qr[0],qr[1])\n",
    "    qc.cx(qr[1],qr[0])\n",
    "    qc.cx(qr[0],qr[1])\n",
    "    qc.measure(qr,cr)\n",
    "    #####################################\n",
    "    print(f\"input:  {(i>1)*1} {i%2}\")\n",
    "    job = execute(qc,backend, shots=1024)\n",
    "    result = job.result()\n",
    "    for x in (result.get_counts(qc)):\n",
    "        print(f\"output: {x[0]} {x[1]}\")\n",
    "    print(\" \")"
   ]
  },
  {
   "cell_type": "markdown",
   "metadata": {},
   "source": [
    "## <span style=\"color:red\"><em>3.5 Try it yourself: </em></span>\n",
    "\n",
    "\n",
    "Build and execute a QuantumCircuit for a single bit adder (with carry)\n",
    "\n",
    "#### design it yourself or execute the following cell to display a clue ! (clue.png)"
   ]
  },
  {
   "cell_type": "code",
   "execution_count": null,
   "metadata": {},
   "outputs": [],
   "source": [
    "from IPython.display import Image, display\n",
    "print(\"This is an implementation of the full 2 bit adder:\")\n",
    "filename = './images/clue.png'\n",
    "display(Image(filename=filename, width=600))"
   ]
  },
  {
   "cell_type": "code",
   "execution_count": null,
   "metadata": {},
   "outputs": [],
   "source": [
    "#write the quantum adder here"
   ]
  },
  {
   "cell_type": "markdown",
   "metadata": {},
   "source": [
    "# 4. Qubits quantum states"
   ]
  },
  {
   "cell_type": "markdown",
   "metadata": {},
   "source": [
    "##  <span style=\"color:red\"><em>4.1 Single qbit : quantum state</em></span>"
   ]
  },
  {
   "cell_type": "code",
   "execution_count": null,
   "metadata": {},
   "outputs": [],
   "source": [
    "from math import pi,cos,sin,sqrt\n",
    "print(sqrt(cos(pi/4)))\n",
    "qr = QuantumRegister(1)\n",
    "cr = ClassicalRegister(1)\n",
    "circ = QuantumCircuit(qr,cr)\n",
    "circ.u3(pi/4,0,0,qr[0])\n",
    "circ.measure(qr,cr)\n",
    "circ.draw(output='mpl')"
   ]
  },
  {
   "cell_type": "code",
   "execution_count": null,
   "metadata": {},
   "outputs": [],
   "source": [
    "job = execute(circ,backend, shots=8192)\n",
    "result = job.result()\n",
    "result.get_counts(circ)\n",
    "plot_histogram(result.get_counts(circ))"
   ]
  },
  {
   "cell_type": "markdown",
   "metadata": {},
   "source": [
    "##  <span style=\"color:red\"><em>4.2 Single qbit : \"superpositon\"</em></span>"
   ]
  },
  {
   "cell_type": "markdown",
   "metadata": {},
   "source": [
    "Let's do it again : define registers (size 1), quantum circuit, add `h` gate, and `measure` gate, draw circuit. "
   ]
  },
  {
   "cell_type": "code",
   "execution_count": null,
   "metadata": {},
   "outputs": [],
   "source": [
    "qr = QuantumRegister(1)\n",
    "cr = ClassicalRegister(1)\n",
    "qc_sup = QuantumCircuit(qr,cr)\n",
    "qc_sup.h(qr[0])\n",
    "qc_sup.measure(qr,cr)\n",
    "qc_sup.draw(output='mpl')"
   ]
  },
  {
   "cell_type": "markdown",
   "metadata": {},
   "source": [
    "execute and get results"
   ]
  },
  {
   "cell_type": "code",
   "execution_count": null,
   "metadata": {},
   "outputs": [],
   "source": [
    "job = execute(qc_sup,backend, shots=1)\n",
    "result = job.result()\n",
    "result.get_counts(qc_sup)\n",
    "plot_histogram(result.get_counts(qc_sup))"
   ]
  },
  {
   "cell_type": "markdown",
   "metadata": {},
   "source": [
    "<img src=\"./images/h_bloch2.png\" alt=\"Note: In order for images to show up in this jupyter notebook you need to select File => Trusted Notebook\" width=\"350 px\" align=\"left\">"
   ]
  },
  {
   "cell_type": "markdown",
   "metadata": {},
   "source": [
    "### See this page for more on what happens on the \"Bloch Sphere\" when using this and other quantum gates : https://javafxpert.github.io/grok-bloch/"
   ]
  },
  {
   "cell_type": "markdown",
   "metadata": {},
   "source": [
    "#### More on moving in the Bloch-Sphere ?"
   ]
  },
  {
   "cell_type": "markdown",
   "metadata": {},
   "source": [
    "##  <span style=\"color:red\"><em>4.3 What is superposition exactly ?</em></span>\n",
    "\n",
    "Now try to build a quantum circuit, using a single qubit, use H then H again, then measure..."
   ]
  },
  {
   "cell_type": "code",
   "execution_count": null,
   "metadata": {},
   "outputs": [],
   "source": [
    "qr = QuantumRegister(1)\n",
    "cr = ClassicalRegister(1)\n",
    "qc_sup = QuantumCircuit(qr,cr)\n",
    "qc_sup.h(qr[0])\n",
    "qc_sup.h(qr[0])\n",
    "qc_sup.measure(qr,cr)\n",
    "qc_sup.draw(output='mpl')"
   ]
  },
  {
   "cell_type": "code",
   "execution_count": null,
   "metadata": {},
   "outputs": [],
   "source": [
    "job = execute(qc_sup,backend, shots=1024)\n",
    "result = job.result()\n",
    "result.get_counts(qc_sup)\n",
    "plot_histogram(result.get_counts(qc_sup))"
   ]
  },
  {
   "cell_type": "markdown",
   "metadata": {},
   "source": [
    "### Here is what happened ! (hope this helps :-) )\n",
    "<br>\n",
    "Let's define states |0⟩, |1⟩ as unitary basis vectors in a two dimensional space, we can write them in this form: \n",
    "\n",
    "\\begin{equation}\n",
    "|0⟩ = \n",
    "\\left(\n",
    "\\begin{array}{cc}\n",
    " 1 \\\\\n",
    " 0 \\\\\n",
    "\\end{array}\n",
    "\\right)\n",
    "\\hspace{1cm}\n",
    "|1⟩ = \n",
    "\\left(\n",
    "\\begin{array}{cc}\n",
    " 0 \\\\\n",
    " 1 \\\\\n",
    "\\end{array}\n",
    "\\right)\n",
    "\\hspace{1cm}\n",
    "\\end{equation}\n",
    "\n",
    "Then we define H (Hadamard operator) with this matrix : \n",
    "\n",
    "\n",
    "\\begin{equation}\n",
    "H = \\frac{1}{\\sqrt{2}}\n",
    "\\left(\n",
    "\\begin{array}{cc}\n",
    " 1 & 1  \\\\\n",
    " 1 & -1  \\\\\n",
    "\\end{array}\n",
    "\\right)\n",
    "\\hspace{1cm}\n",
    "\\end{equation}\n",
    "\n",
    "\n",
    "It is easy to verify that : \n",
    "\n",
    "\n",
    "\\begin{equation}\n",
    "H|0⟩ = \\frac{1}{\\sqrt{2}} \n",
    "\\left(\n",
    "\\begin{array}{cc}\n",
    " 1 \\\\\n",
    " 1 \\\\\n",
    "\\end{array}\n",
    "\\right)\n",
    "\\end{equation}\n",
    "\n",
    "\n",
    "and that : \n",
    "\n",
    "\n",
    "\\begin{equation}\n",
    "H|1⟩ = \\frac{1}{\\sqrt{2}} \n",
    "\\left(\n",
    "\\begin{array}{cc}\n",
    " 1 \\\\\n",
    " -1 \\\\\n",
    "\\end{array}\n",
    "\\right)\n",
    "\\end{equation}\n",
    "\n",
    "also, if we multiply this result again by H, we will find : \n",
    "\\begin{equation}\n",
    "HH|0⟩ =\n",
    "\\left(\n",
    "\\begin{array}{cc}\n",
    " 1 \\\\\n",
    " 0 \\\\\n",
    "\\end{array}\n",
    "\\right)\n",
    "\\end{equation}\n",
    "\n",
    "That is :\n",
    "\n",
    "\\begin{equation} \n",
    "HH|0⟩ = |0⟩\n",
    "\\end{equation}\n",
    "\n",
    "Which makes sense because it is also easy to verify that : \n",
    "\n",
    "\\begin{equation} \n",
    "H^2 = I\n",
    "\\end{equation}\n",
    "\n",
    "where:\n",
    "\n",
    "\\begin{equation}\n",
    "I = \n",
    "\\left(\n",
    "\\begin{array}{cc}\n",
    " 1 & 0 \\\\\n",
    " 0 & 1 \\\\\n",
    "\\end{array}\n",
    "\\right)\n",
    "\\end{equation}"
   ]
  },
  {
   "cell_type": "markdown",
   "metadata": {},
   "source": [
    "##  <span style=\"color:red\"><em>4.4 Multi qbit entanglement</em></span>\n",
    "\n",
    "Now build a quantum circuit using 2 qubits, start with H on qbit0 and then CNOT (q0 controlling q1): \n",
    "\n",
    "`<cicruit>.cx(qr[0],qr[1])`"
   ]
  },
  {
   "cell_type": "code",
   "execution_count": null,
   "metadata": {},
   "outputs": [],
   "source": [
    "#define registers, define curcuit, build circuit, draw.\n",
    "qr = QuantumRegister(2)\n",
    "cr = ClassicalRegister(2)\n",
    "qc_bell = QuantumCircuit(qr,cr)\n",
    "qc_bell.h(qr[0])\n",
    "qc_bell.cx(qr[0],qr[1])\n",
    "qc_bell.measure(qr,cr)\n",
    "qc_bell.draw(output='mpl')"
   ]
  },
  {
   "cell_type": "code",
   "execution_count": null,
   "metadata": {},
   "outputs": [],
   "source": [
    "# define, execute job and plot results\n",
    "job = execute(qc_bell,backend, shots=1024)\n",
    "result = job.result()\n",
    "result.get_counts(qc_bell)\n",
    "plot_histogram(result.get_counts(qc_bell))"
   ]
  },
  {
   "cell_type": "markdown",
   "metadata": {},
   "source": [
    "### What happened ? ... \n",
    "\n",
    "\n",
    "initial status: \n",
    "\n",
    "\\begin{equation} \n",
    "|\\Psi_0⟩ = |00⟩ \n",
    "\\end{equation} \n",
    "\n",
    "(could also be written as: \n",
    "\\begin{equation} \n",
    "|\\Psi_0⟩ = 1|00⟩ + 0|10⟩ + 0|01⟩ + 0|11⟩\n",
    "\\end{equation} \n",
    ")\n",
    "\n",
    "H has been applied on qubit 0: \n",
    "\n",
    "\\begin{equation} \n",
    "|\\Psi_1⟩ = \\frac{1}{\\sqrt{2}}\\left(|00⟩ + |10⟩ \\right) \n",
    "\\end{equation}\n",
    "\n",
    "Measuring one of the qubits does not give any information on the other\n",
    "\n",
    "Now let's apply the CNOT: \n",
    "\n",
    "\n",
    "\\begin{equation} \n",
    "|\\Psi_1⟩ = \\frac{1}{\\sqrt{2}}\\left(|00⟩ + |11⟩ \\right) \n",
    "\\end{equation}\n",
    "\n",
    "Measuring one of the qubits now gives away information about the other\n",
    "\n",
    "\n",
    "### What does this mean ? ... \n",
    "\n",
    "\n",
    "This is called a Bell state and can be written as : \n",
    "\n",
    "\\begin{equation} \n",
    "|Bell⟩ = \\frac{1}{\\sqrt{2}}\\left(|00⟩ + |11⟩ \\right) \n",
    "\\end{equation}\n",
    "\n",
    "Let's assume we can factor it (find two states the product of which is the Bell state), for example: \n",
    "\n",
    "\\begin{equation} \n",
    "|\\phi⟩ = a|0⟩ + (b+ic)|1⟩  \n",
    "\\end{equation}\n",
    "and \n",
    "\\begin{equation} \n",
    "|\\psi⟩ = d|0⟩ + (e+if)|1⟩  \n",
    "\\end{equation}\n",
    "\n",
    "Then: \n",
    "\\begin{equation} \n",
    "|\\phi⟩|\\psi⟩ = (ad|00⟩ + (ae + iaf)|01⟩ + (db+idc)|10⟩ + (b+ic)(e+if)|11⟩)  \n",
    "\\end{equation}\n",
    "\n",
    "As |00⟩, |01⟩, |10⟩, |11⟩ are basis vectors, we can identify:  \n",
    "\n",
    "\\begin{equation}\n",
    "ad = \\frac{1}{\\sqrt{2}}\n",
    "\\end{equation}\n",
    "\\begin{equation}\n",
    "ae + iaf = 0\n",
    "\\end{equation}\n",
    "\\begin{equation}\n",
    "db + idc = 0\n",
    "\\end{equation}\n",
    "\\begin{equation}\n",
    "be - cf + i(bf+ce) = \\frac{1}{\\sqrt{2}}\n",
    "\\end{equation}\n",
    "\n",
    "First a*d is not null so both a and d are not null. Second a complex number is equal to 0, then both is real and imaginary component are equal to 0. With a and d both not null, then e = f = b = c = 0, with that: be - cf = 0, but this does not work with : \n",
    "\\begin{equation}\n",
    "be - cf = \\frac{1}{\\sqrt{2}}\n",
    "\\end{equation}\n",
    "\n",
    "The Bell state cannot be written as a product of single qubit states.\n",
    "\n",
    "### ... it means we cannot know anything about the separate components of the entangled system, we can only know about the whole."
   ]
  },
  {
   "cell_type": "markdown",
   "metadata": {},
   "source": [
    "##  <span style=\"color:red\"><em>4.5 Bell state: running on actual quantum hardware</em></span>"
   ]
  },
  {
   "cell_type": "markdown",
   "metadata": {},
   "source": [
    "Sign on to IBM Q Experience, go to the upper right, click My Account, generate, or regenerate your API key, copy and paste into a file (ex: QToken.py ):\n",
    "\n",
    "`APItoken = '7e45da3023cb91be72f620d8 ... maybe ... 36db927c23b5b358e79a6bc2fda58fc'`\n",
    "\n",
    "\n",
    "<img src=\"./images/API_Token.png\" alt=\"Note: In order for images to show up in this jupyter notebook you need to select File => Trusted Notebook\" width=\"350 px\" align=\"center\">"
   ]
  },
  {
   "cell_type": "code",
   "execution_count": null,
   "metadata": {},
   "outputs": [],
   "source": [
    "import QToken\n",
    "\n",
    "print(QToken.APItoken)\n",
    "# now I can use Qconfig.APItoken to get the API key value "
   ]
  },
  {
   "cell_type": "code",
   "execution_count": null,
   "metadata": {},
   "outputs": [],
   "source": [
    "from qiskit import IBMQ\n",
    "IBMQ.enable_account(QToken.APItoken)"
   ]
  },
  {
   "cell_type": "code",
   "execution_count": null,
   "metadata": {},
   "outputs": [],
   "source": [
    "my_back_end = IBMQ.get_backend('ibmqx2')\n",
    "#my_back_end = IBMQ.get_backend('ibmqx4')\n",
    "#my_back_end = IBMQ.get_backend('ibmq_16_melbourne')"
   ]
  },
  {
   "cell_type": "code",
   "execution_count": null,
   "metadata": {},
   "outputs": [],
   "source": [
    "print(my_back_end.status())"
   ]
  },
  {
   "cell_type": "code",
   "execution_count": null,
   "metadata": {
    "scrolled": false
   },
   "outputs": [],
   "source": [
    "job = execute(qc_bell,my_back_end, shots=1024)\n",
    "result = job.result()\n",
    "result.get_counts(qc_bell)\n",
    "plot_histogram(result.get_counts(qc_bell))"
   ]
  },
  {
   "cell_type": "markdown",
   "metadata": {},
   "source": [
    "##  <span style=\"color:red\"><em>4.6 Bernstein-Vazirani</em></span>\n",
    "\n",
    "let $f$ be a function from $\\{0,1\\}^n$ to $\\{0,1\\}$\n",
    "\n",
    "For example for n = 4 then we will have:\n",
    "\\begin{equation}\n",
    "f(0001) = b0\n",
    "\\end{equation}\n",
    "\\begin{equation}\n",
    "f(0010) = b1\n",
    "\\end{equation}\n",
    "\\begin{equation}\n",
    "f(0100) = b2\n",
    "\\end{equation}\n",
    "\\begin{equation}\n",
    "f(1000) = b3\n",
    "\\end{equation}\n",
    "\n",
    "We want to know the results above to define $f$\n",
    "\n",
    "With a classical algorithm it will take n tries to figure out all the bn\n",
    "Bernstein-Vazirani will do it using only one query (but $O(n)$ gates) \n",
    "\n",
    "<img src=\"./images/bv.png\" alt=\"Note: In order for images to show up in this jupyter notebook you need to select File => Trusted Notebook\" width=\"350 px\" align=\"center\">\n"
   ]
  },
  {
   "cell_type": "code",
   "execution_count": null,
   "metadata": {},
   "outputs": [],
   "source": [
    "q = QuantumRegister(8)\n",
    "tmp = QuantumRegister(1)\n",
    "res = ClassicalRegister(8)"
   ]
  },
  {
   "cell_type": "code",
   "execution_count": null,
   "metadata": {},
   "outputs": [],
   "source": [
    "# Pick a number\n",
    "s = 114\n",
    "# Define a circuit named oracle and add CNOTs with ancillary qubit where s bit is one \n",
    "oracle = QuantumCircuit(q,tmp,res)\n",
    "for i in range(len(q)):\n",
    "    if ( s & (1 << i) ):\n",
    "        oracle.cx(q[i],tmp[0])"
   ]
  },
  {
   "cell_type": "code",
   "execution_count": null,
   "metadata": {},
   "outputs": [],
   "source": [
    "# And this is the Bernstein-Vazirani algorithm\n",
    "bv = QuantumCircuit(q,tmp,res)\n",
    "bv.x(tmp[0])\n",
    "bv.h(q)\n",
    "bv.h(tmp)\n",
    "bv.barrier()\n",
    "bv += oracle\n",
    "bv.barrier()\n",
    "bv.h(q)\n",
    "bv.h(tmp)\n",
    "bv.barrier()\n",
    "bv.measure(q,res)\n",
    "bv.draw(output='mpl')"
   ]
  },
  {
   "cell_type": "code",
   "execution_count": null,
   "metadata": {},
   "outputs": [],
   "source": [
    "job = execute([bv], backend, shots=100)"
   ]
  },
  {
   "cell_type": "code",
   "execution_count": null,
   "metadata": {},
   "outputs": [],
   "source": [
    "result = job.result()\n",
    "result.get_counts(bv)\n",
    "print(result.get_counts(bv))\n",
    "from qiskit.tools.visualization import plot_histogram\n",
    "plot_histogram (result.get_counts(bv))"
   ]
  },
  {
   "cell_type": "markdown",
   "metadata": {},
   "source": [
    "##  <span style=\"color:red\"><em>5. Quantum emoticon</em></span>\n",
    "\n",
    "From qiskit tutorials (and get many more details and explanations there): \n",
    "https://github.com/Qiskit/qiskit-tutorials/blob/master/community/hello_world/quantum_emoticon.ipynb\n"
   ]
  },
  {
   "cell_type": "code",
   "execution_count": null,
   "metadata": {},
   "outputs": [],
   "source": [
    "from qiskit import ClassicalRegister, QuantumRegister\n",
    "from qiskit import QuantumCircuit, execute\n",
    "from qiskit.tools.visualization import plot_histogram\n",
    "from qiskit import IBMQ, BasicAer\n",
    "from qiskit.tools.jupyter import *\n",
    "import matplotlib.pyplot as plt\n",
    "%matplotlib inline"
   ]
  },
  {
   "cell_type": "code",
   "execution_count": null,
   "metadata": {},
   "outputs": [],
   "source": [
    "# set up registers and program\n",
    "qr = QuantumRegister(14)\n",
    "cr = ClassicalRegister(14)\n",
    "qc = QuantumCircuit(qr, cr)\n",
    "\n",
    "# rightmost seven (qu)bits have ')' = 0101001\n",
    "qc.x(qr[0])\n",
    "qc.x(qr[3])\n",
    "qc.x(qr[5])\n",
    "\n",
    "# second seven (qu)bits have superposition of\n",
    "# '8' = 0111000\n",
    "# ';' = 0111011\n",
    "# these differ only on the rightmost two bits\n",
    "qc.h(qr[8]) # create superposition on 9\n",
    "qc.cx(qr[8],qr[7]) # spread it to 8 with a CNOT\n",
    "qc.x(qr[10])\n",
    "qc.x(qr[11])\n",
    "qc.x(qr[12])\n",
    "\n",
    "# measure\n",
    "for j in range(14):\n",
    "    qc.measure(qr[j], cr[j])"
   ]
  },
  {
   "cell_type": "code",
   "execution_count": null,
   "metadata": {},
   "outputs": [],
   "source": [
    "backend = BasicAer.get_backend('qasm_simulator')\n",
    "shots_sim = 10\n",
    "\n",
    "job_sim = execute(qc, backend, shots=shots_sim)\n",
    "stats_sim = job_sim.result().get_counts()\n",
    "\n",
    "#plot_histogram(stats_sim)\n",
    "\n",
    "plt.rc('font', family='monospace')\n",
    "\n",
    "def plot_smiley (stats, shots):\n",
    "    for bitString in stats:\n",
    "        char = chr(int( bitString[0:7] ,2)) # get string of the leftmost 7 bits and convert to an ASCII character\n",
    "        char += chr(int( bitString[7:14] ,2)) # do the same for string of rightmost 7 bits, and add it to the previous character\n",
    "        prob = stats[bitString] / shots # fraction of shots for which this result occurred\n",
    "        # create plot with all characters on top of each other with alpha given by how often it turned up in the output\n",
    "        plt.annotate( char, (0.5,0.5), va=\"center\", ha=\"center\", color = (0,0,0, prob ), size = 300)\n",
    "        if (prob>0.05): # list prob and char for the dominant results (occurred for more than 5% of shots)\n",
    "            print(str(prob)+\"\\t\"+char)\n",
    "    plt.axis('off')\n",
    "    plt.show()\n",
    "    \n",
    "plot_smiley(stats_sim, shots_sim)"
   ]
  },
  {
   "cell_type": "markdown",
   "metadata": {},
   "source": [
    "# 6. More quantum computing"
   ]
  },
  {
   "cell_type": "markdown",
   "metadata": {},
   "source": [
    "## <a href=\"https://www.research.ibm.com/ibm-q/\">IBM Q informations, resources</a>\n",
    "\n",
    "<img src=\"./images/IBMQ.png\" alt=\"Note: In order for images to show up in this jupyter notebook you need to select File => Trusted Notebook\" width=\"800 px\" align=\"left\">\n"
   ]
  },
  {
   "cell_type": "markdown",
   "metadata": {},
   "source": [
    "### <a href=\"https://qiskit.org/\">QISKit : documentations, tutorials, GitHub</a>\n",
    "\n",
    "<img src=\"./images/qiskitOrg.png\" alt=\"Note: In order for images to show up in this jupyter notebook you need to select File => Trusted Notebook\" width=\"800 px\" align=\"left\">\n",
    "\n"
   ]
  },
  {
   "cell_type": "markdown",
   "metadata": {},
   "source": [
    "## <a href=\"https://www.youtube.com/channel/UClBNq7mCMf5xm8baE_VMl3A\">QISKit channel on Youtube</a>\n",
    "<img src=\"./images/qiskitYoutube.png\" alt=\"Note: In order for images to show up in this jupyter notebook you need to select File => Trusted Notebook\" width=\"800 px\" align=\"left\">\n"
   ]
  },
  {
   "cell_type": "markdown",
   "metadata": {},
   "source": [
    "### <a href=\"https://fr.wikipedia.org/wiki/Calculateur_quantique\">Wikipedia: Calculateur Quantique</a>\n",
    "<img src=\"./images/QCWikipedia.png\" alt=\"Note: In order for images to show up in this jupyter notebook you need to select File => Trusted Notebook\" width=\"800 px\" align=\"left\">"
   ]
  },
  {
   "cell_type": "markdown",
   "metadata": {},
   "source": [
    "## Isaac Chuang & Peter Shor, Quantum Information Science I, Part 1\n",
    "### Edx MOOC\n",
    "<br>\n",
    "<img src=\"./images/MOOCedX.png\" alt=\"Note: In order for images to show up in this jupyter notebook you need to select File => Trusted Notebook\" width=\"800 px\" align=\"center\">\n",
    "<br>"
   ]
  },
  {
   "cell_type": "markdown",
   "metadata": {},
   "source": [
    "## Leonard Susskind, Art Freidman: Mécanique Quantique, Le minimum Théorique\n",
    "### Presses polytechniques et universitaires romandes\n",
    "<br>\n",
    "<img src=\"./images/susskindFriedman.jpg\" alt=\"Note: In order for images to show up in this jupyter notebook you need to select File => Trusted Notebook\" width=\"400 px\" align=\"center\">\n",
    "<br>"
   ]
  },
  {
   "cell_type": "markdown",
   "metadata": {},
   "source": [
    "## David McMahon, Quantum Computing Explained \n",
    "### Wiley\n",
    "<br>\n",
    "<img src=\"./images/mcmahon.jpg\" alt=\"Note: In order for images to show up in this jupyter notebook you need to select File => Trusted Notebook\" width=\"400 px\" align=\"center\">\n",
    "<br>"
   ]
  },
  {
   "cell_type": "markdown",
   "metadata": {},
   "source": [
    "### David Mermin, Calculs et Algorithmes Quantiques, \n",
    "#### EDP Sciences, CNRS Editions\n",
    "<br>\n",
    "<img src=\"./images/mermin.jpg\" alt=\"Note: In order for images to show up in this jupyter notebook you need to select File => Trusted Notebook\" width=\"400 px\" align=\"center\">\n",
    "<br>"
   ]
  },
  {
   "cell_type": "markdown",
   "metadata": {},
   "source": [
    "## Charles Corge, L'informatique Quantique, qu'est-ce et pour quoi faire ? \n",
    "### Ellipses\n",
    "<br>\n",
    "<img src=\"./images/corge.jpeg\" alt=\"Note: In order for images to show up in this jupyter notebook you need to select File => Trusted Notebook\" width=\"400 px\" align=\"center\">\n",
    "<br>"
   ]
  },
  {
   "cell_type": "markdown",
   "metadata": {},
   "source": [
    "## Michael A. Nielsen and Isaac L. Chuang : Quantum Computation and Quantum Information\n",
    "### Cambridge\n",
    "<br>\n",
    "<img src=\"./images/nielsenChuang.jpg\" alt=\"Note: In order for images to show up in this jupyter notebook you need to select File => Trusted Notebook\" width=\"400 px\" align=\"center\">\n",
    "<br>"
   ]
  }
 ],
 "metadata": {
  "kernelspec": {
   "display_name": "Python 3",
   "language": "python",
   "name": "python3"
  },
  "language_info": {
   "codemirror_mode": {
    "name": "ipython",
    "version": 3
   },
   "file_extension": ".py",
   "mimetype": "text/x-python",
   "name": "python",
   "nbconvert_exporter": "python",
   "pygments_lexer": "ipython3",
   "version": "3.7.4"
  }
 },
 "nbformat": 4,
 "nbformat_minor": 2
}
