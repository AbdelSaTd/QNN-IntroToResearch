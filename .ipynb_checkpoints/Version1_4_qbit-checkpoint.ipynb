{
 "cells": [
  {
   "cell_type": "code",
   "execution_count": 3,
   "metadata": {},
   "outputs": [
    {
     "ename": "SyntaxError",
     "evalue": "invalid syntax (<ipython-input-3-2de527dfc519>, line 6)",
     "output_type": "error",
     "traceback": [
      "\u001b[0;36m  File \u001b[0;32m\"<ipython-input-3-2de527dfc519>\"\u001b[0;36m, line \u001b[0;32m6\u001b[0m\n\u001b[0;31m    h q[0];\u001b[0m\n\u001b[0m      ^\u001b[0m\n\u001b[0;31mSyntaxError\u001b[0m\u001b[0;31m:\u001b[0m invalid syntax\n"
     ]
    }
   ],
   "source": [
    "from qiskit import QuantumRegister, ClassicalRegister, QuantumCircuit, execute\n",
    "\n",
    "q = QuantumRegister(5);\n",
    "c = ClassicalRegister(5);\n",
    "\n",
    "h q[0];\n",
    "h q[1];\n",
    "h q[2];\n",
    "h q[3];\n",
    "z q[0];\n",
    "z q[1];\n",
    "z q[2];\n",
    "cz q[1],q[2];\n",
    "cz q[0],q[2];\n",
    "cz q[0],q[1];\n",
    "cz q[0],q[1];\n",
    "cz q[1],q[2];\n",
    "z q[1];\n",
    "z q[2];\n",
    "cz q[1],q[3];\n",
    "cz q[0],q[2];\n",
    "cz q[0],q[1];\n",
    "cz q[1],q[2];\n",
    "cz q[0],q[1];\n",
    "cz q[2],q[3];\n",
    "cz q[1],q[3];\n",
    "cz q[0],q[1];\n",
    "h q[0];\n",
    "cz q[1],q[2];\n",
    "x q[0];\n",
    "h q[1];\n",
    "cz q[2],q[3];\n",
    "x q[1];\n",
    "h q[2];\n",
    "h q[3];\n",
    "x q[2];\n",
    "x q[3];\n",
    "ccx q[2],q[3],q[4];\n",
    "ccx q[0],q[1],q[4];\n",
    "measure q[4] -> c[4];"
   ]
  },
  {
   "cell_type": "code",
   "execution_count": null,
   "metadata": {},
   "outputs": [],
   "source": [
    "from qiskit import Aer\n",
    "print(Aer.backends())\n",
    "backend = Aer.get_backend('qasm_simulator')"
   ]
  }
 ],
 "metadata": {
  "kernelspec": {
   "display_name": "Python 3",
   "language": "python",
   "name": "python3"
  },
  "language_info": {
   "codemirror_mode": {
    "name": "ipython",
    "version": 3
   },
   "file_extension": ".py",
   "mimetype": "text/x-python",
   "name": "python",
   "nbconvert_exporter": "python",
   "pygments_lexer": "ipython3",
   "version": "3.7.3"
  }
 },
 "nbformat": 4,
 "nbformat_minor": 2
}
